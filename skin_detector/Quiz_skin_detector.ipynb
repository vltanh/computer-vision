{
 "cells": [
  {
   "cell_type": "markdown",
   "metadata": {},
   "source": [
    "### Import libraries"
   ]
  },
  {
   "cell_type": "code",
   "execution_count": 29,
   "metadata": {
    "colab": {},
    "colab_type": "code",
    "id": "u-ujT1YMcjyt"
   },
   "outputs": [],
   "source": [
    "import cv2\n",
    "import numpy as np\n",
    "import os"
   ]
  },
  {
   "cell_type": "code",
   "execution_count": 30,
   "metadata": {
    "colab": {},
    "colab_type": "code",
    "id": "XqYoVGKAcjyy"
   },
   "outputs": [],
   "source": [
    "# Skin dataset link: http://cs-chan.com/downloads_skin_dataset.html\n",
    "data_path = \"./Face_Dataset/\"\n",
    "data_path = os.path.expanduser(data_path)\n",
    "if not os.path.isdir(data_path):\n",
    "    print(\"Please download dataset from http://cs-chan.com/downloads_skin_dataset.html and unzip\")\n",
    "else:\n",
    "    photo_dir = os.path.join(data_path,\"Pratheepan_Dataset/FacePhoto\")\n",
    "    mask_dir = os.path.join(data_path,\"Ground_Truth/GroundT_FacePhoto\")\n",
    "    photo_list = os.listdir(photo_dir)\n",
    "    t_photo_dir = os.path.join(data_path,\"Pratheepan_Dataset/FamilyPhoto\")\n",
    "    t_mask_dir = os.path.join(data_path,\"Ground_Truth/GroundT_FamilyPhoto\")\n",
    "    t_photo_list = os.listdir(t_photo_dir)"
   ]
  },
  {
   "cell_type": "code",
   "execution_count": 62,
   "metadata": {
    "colab": {},
    "colab_type": "code",
    "id": "59vRb7wPcjy2"
   },
   "outputs": [],
   "source": [
    "def extract_stat(pt_dir,mask_dir):\n",
    "    \"\"\"Extract stat from training set for skin color detector\n",
    "    pt_dir,mask_dir: photo,mask training set directory\n",
    "    \"\"\"\n",
    "    \n",
    "    h_total = 0\n",
    "    count = 0\n",
    "    for id in os.listdir(pt_dir):\n",
    "        face_image_dir = os.path.join(pt_dir, id)\n",
    "        mask_image_dir = os.path.join(mask_dir, os.path.splitext(id)[0] + '.png')\n",
    "        \n",
    "        face = cv2.imread(face_image_dir)\n",
    "        mask = cv2.imread(mask_image_dir)\n",
    "        \n",
    "        extracted_skin = np.bitwise_and(face, mask)\n",
    "        \n",
    "        hsv_face = cv2.cvtColor(face, cv2.COLOR_BGR2HSV)\n",
    "        \n",
    "        h_channel = hsv_face[:,:,0]\n",
    "#         s_channel = hsv_face[:,:,1]\n",
    "#         v_channel = hsv_face[:,:,2]\n",
    "        \n",
    "        mean = np.mean(h_channel)\n",
    "        std = np.std(h_channel)\n",
    "        h_total += mean\n",
    "        \n",
    "        count += 1\n",
    "        \n",
    "#         cv2.imshow('Result', h_channel)\n",
    "#         cv2.waitKey(0)\n",
    "#         cv2.destroyAllWindows()\n",
    "    h_mean = h_total / count\n",
    "    \n",
    "    return h_total / count\n",
    "\n",
    "stat = extract_stat(photo_dir,mask_dir)"
   ]
  },
  {
   "cell_type": "code",
   "execution_count": 60,
   "metadata": {
    "colab": {},
    "colab_type": "code",
    "id": "P5B_ZU02cjy7"
   },
   "outputs": [],
   "source": [
    "def infer(img_dir,stat,HSV=True):\n",
    "    \"\"\"Inference skin mask from image and stat\n",
    "    \"\"\"\n",
    "    img = cv2.imread(img_dir)\n",
    "    hsv_img = cv2.cvtColor(img, cv2.COLOR_BGR2HSV)\n",
    "    \n",
    "    h, w, c = img.shape\n",
    "    mask = np.zeros((h, w))\n",
    "    for i in range(h):\n",
    "        for j in range(w):\n",
    "            if hsv_img[i, j, 0] > stat:\n",
    "                mask[i, j] = 255\n",
    "    cv2.imshow('Result', mask)\n",
    "    cv2.waitKey(0)\n",
    "    cv2.destroyAllWindows()\n",
    "    \n",
    "    \n",
    "    "
   ]
  },
  {
   "cell_type": "code",
   "execution_count": 61,
   "metadata": {
    "colab": {},
    "colab_type": "code",
    "id": "vWA4TbeAcjzC",
    "outputId": "d7c193b6-659f-4688-efef-8d71762569fb"
   },
   "outputs": [],
   "source": [
    "mask = cv2.imread(os.path.join(mask_dir,photo_list[1].split('.')[0]+'.png'))[:,:,0]\n",
    "pred_mask = infer(os.path.join(photo_dir,photo_list[1]),stat,True)"
   ]
  },
  {
   "cell_type": "code",
   "execution_count": 20,
   "metadata": {
    "colab": {},
    "colab_type": "code",
    "id": "J_fsAwF4cjy-"
   },
   "outputs": [],
   "source": [
    "def compute_iou(pred_mask, gt_mask):\n",
    "    \"\"\"Computes IoU overlaps between two mask.\n",
    "    pred_mask, gt_mask: numpy.array([Height, Width])\n",
    "    \"\"\"\n",
    "    \n",
    "    # flatten masks and compute their areas\n",
    "    mask1 = np.reshape(pred_mask > .5, (-1, 1)).astype(np.float32)\n",
    "    mask2 = np.reshape(gt_mask > .5, (-1, 1)).astype(np.float32)\n",
    "    area1 = np.sum(mask1, axis=0)\n",
    "    area2 = np.sum(mask2, axis=0)\n",
    "\n",
    "    # intersections and union\n",
    "    intersection = np.dot(mask1.T, mask2)\n",
    "    union = area1[:, None] + area2[None, :] - intersection\n",
    "    overlaps = intersection / union\n",
    "    return overlaps[0][0]\n",
    "  \n",
    "def compute_overlaps_masks(pred_masks, gt_masks):\n",
    "    \"\"\"Computes IoU overlaps between two set of masks.\n",
    "    pred_masks, gt_masks: lists of prediction mask and groundtruth mask [numpy.array([Height, Width]),...]\n",
    "    \"\"\"\n",
    "    \n",
    "    iou_score = 0 \n",
    "    for pred_mask, gt_mask in zip(pred_masks,gt_masks):\n",
    "      iou_score += compute_iou(pred_mask, gt_mask)\n",
    "    \n",
    "    print(\"Your score is:\", iou_score)"
   ]
  }
 ],
 "metadata": {
  "colab": {
   "collapsed_sections": [],
   "name": "Quiz: skin-detector.ipynb",
   "provenance": [],
   "version": "0.3.2"
  },
  "kernelspec": {
   "display_name": "Python 3",
   "language": "python",
   "name": "python3"
  },
  "language_info": {
   "codemirror_mode": {
    "name": "ipython",
    "version": 3
   },
   "file_extension": ".py",
   "mimetype": "text/x-python",
   "name": "python",
   "nbconvert_exporter": "python",
   "pygments_lexer": "ipython3",
   "version": "3.6.7"
  }
 },
 "nbformat": 4,
 "nbformat_minor": 1
}
